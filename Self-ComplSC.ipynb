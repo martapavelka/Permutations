{
 "cells": [
  {
   "cell_type": "code",
   "execution_count": 5,
   "metadata": {},
   "outputs": [
    {
     "name": "stdout",
     "output_type": "stream",
     "text": [
      "[[1, 2, 3, 4], [1, 2, 3, 5], [1, 2, 3, 6], [1, 2, 3, 7], [1, 2, 3, 8], [1, 2, 4, 5], [1, 2, 4, 6], [1, 2, 4, 7], [1, 2, 4, 8], [1, 2, 5, 6], [1, 2, 5, 7], [1, 2, 5, 8], [1, 2, 6, 7], [1, 2, 6, 8], [1, 2, 7, 8], [1, 3, 4, 5], [1, 3, 4, 6], [1, 3, 4, 7], [1, 3, 4, 8], [1, 3, 5, 6], [1, 3, 5, 7], [1, 3, 5, 8], [1, 3, 6, 7], [1, 3, 6, 8], [1, 3, 7, 8], [1, 4, 5, 6], [1, 4, 5, 7], [1, 4, 5, 8], [1, 4, 6, 7], [1, 4, 6, 8], [1, 4, 7, 8], [1, 5, 6, 7], [1, 5, 6, 8], [1, 5, 7, 8], [1, 6, 7, 8], [2, 3, 4, 5], [2, 3, 4, 6], [2, 3, 4, 7], [2, 3, 4, 8], [2, 3, 5, 6], [2, 3, 5, 7], [2, 3, 5, 8], [2, 3, 6, 7], [2, 3, 6, 8], [2, 3, 7, 8], [2, 4, 5, 6], [2, 4, 5, 7], [2, 4, 5, 8], [2, 4, 6, 7], [2, 4, 6, 8], [2, 4, 7, 8], [2, 5, 6, 7], [2, 5, 6, 8], [2, 5, 7, 8], [2, 6, 7, 8], [3, 4, 5, 6], [3, 4, 5, 7], [3, 4, 5, 8], [3, 4, 6, 7], [3, 4, 6, 8], [3, 4, 7, 8], [3, 5, 6, 7], [3, 5, 6, 8], [3, 5, 7, 8], [3, 6, 7, 8], [4, 5, 6, 7], [4, 5, 6, 8], [4, 5, 7, 8], [4, 6, 7, 8], [5, 6, 7, 8]] <class 'list'> <class 'list'>\n",
      "[5, 6, 7, 8] [6, 7, 8, 1]\n",
      "[1, 6, 7, 8] <class 'list'>\n"
     ]
    },
    {
     "ename": "ValueError",
     "evalue": "list.remove(x): x not in list",
     "output_type": "error",
     "traceback": [
      "\u001b[0;31m---------------------------------------------------------------------------\u001b[0m",
      "\u001b[0;31mValueError\u001b[0m                                Traceback (most recent call last)",
      "Input \u001b[0;32mIn [5]\u001b[0m, in \u001b[0;36m<cell line: 30>\u001b[0;34m()\u001b[0m\n\u001b[1;32m     38\u001b[0m \u001b[38;5;28mprint\u001b[39m(permQuad, \u001b[38;5;28mtype\u001b[39m(permQuad))\n\u001b[1;32m     39\u001b[0m \u001b[38;5;28;01mwhile\u001b[39;00m permQuad \u001b[38;5;241m!=\u001b[39m poppedQuad:\n\u001b[0;32m---> 40\u001b[0m     \u001b[43mquads\u001b[49m\u001b[38;5;241;43m.\u001b[39;49m\u001b[43mremove\u001b[49m\u001b[43m(\u001b[49m\u001b[43mpermQuad\u001b[49m\u001b[43m)\u001b[49m\n\u001b[1;32m     41\u001b[0m     \u001b[38;5;28;01mif\u001b[39;00m \u001b[38;5;28mlen\u001b[39m(red[orbit]) \u001b[38;5;241m>\u001b[39m \u001b[38;5;28mlen\u001b[39m(blue[orbit]):\n\u001b[1;32m     42\u001b[0m         blue[orbit]\u001b[38;5;241m.\u001b[39mappend(permQuad)\n",
      "\u001b[0;31mValueError\u001b[0m: list.remove(x): x not in list"
     ]
    }
   ],
   "source": [
    "from itertools import combinations\n",
    "\n",
    "n=8\n",
    "\n",
    "p0=Permutation(tuple(CyclicPermutations(range(1,n+1))[0]))\n",
    "\n",
    "# Function permute\n",
    "def permute(quad,p):\n",
    "    permutedQuad = []\n",
    "    for i in quad:\n",
    "        permutedQuad.append(p(i))\n",
    "    return permutedQuad\n",
    "\n",
    "# Binary representation with fixed length\n",
    "def binary(n, length):\n",
    "    return '0' * (length-n.nbits()) + n.binary()\n",
    "\n",
    "# Array quads\n",
    "l = list(range(1,n+1))\n",
    "X = Combinations(l,4)\n",
    "# remake the set of all faces to proper array form\n",
    "quads = [x for x in X]\n",
    "print(quads, type(quads[1]), type(quads))\n",
    "\n",
    "# Array reds and blues\n",
    "red = []\n",
    "blue = []\n",
    "orbit = 0\n",
    "\n",
    "while len(quads):\n",
    "    poppedQuad = quads.pop()\n",
    "    red.append([])\n",
    "    red[orbit].append(poppedQuad)\n",
    "    blue.append([])\n",
    "    permQuad = permute(poppedQuad,p0)\n",
    "    print(poppedQuad, permQuad)\n",
    "    permQuad.sort()\n",
    "    print(permQuad, type(permQuad))\n",
    "    while permQuad != poppedQuad:\n",
    "        quads.remove(permQuad)\n",
    "        if len(red[orbit]) > len(blue[orbit]):\n",
    "            blue[orbit].append(permQuad)\n",
    "        else:\n",
    "            red[orbit].append(permQuad)\n",
    "    orbit = orbit + 1\n",
    "# len(red) = orbit as we added the +1 even in the last step\n",
    "for i in range(0,2^orbit):\n",
    "    binI = binary(i,orbit)\n",
    "    for j in range(0,orbit):\n",
    "        if binI[j] == 0:\n",
    "            print (red[j])\n",
    "        else:\n",
    "            print (blue[j])\n",
    "    print('----------------')\n",
    "    "
   ]
  },
  {
   "cell_type": "code",
   "execution_count": 6,
   "metadata": {},
   "outputs": [
    {
     "name": "stdout",
     "output_type": "stream",
     "text": [
      "<class 'list'> <class 'list'> <class 'sage.combinat.combination.Combinations_setk'> <class 'list'>\n",
      "[[2, 5, 8]] <class 'list'>\n"
     ]
    }
   ],
   "source": [
    "# quad = [1,3,5]\n",
    "\n",
    "# p0=Permutation(tuple(CyclicPermutations(range(1,8))[0]))\n",
    "\n",
    "# # Function permute\n",
    "# def permute(quad,p):\n",
    "#     permutedQuad = []\n",
    "#     for i in quad:\n",
    "#         permutedQuad.append(p(i))\n",
    "#     return permutedQuad\n",
    "\n",
    "# print(permute(quad,p0))\n",
    "\n",
    "X = Combinations([1,2,3,4,5],3)\n",
    "q = [x for x in X]\n",
    "print(type(X[1]), type(q[1]), type(X), type(q))\n",
    "\n",
    "a = [[1,2,3],[2,5,8]]\n",
    "a.remove([1,2,3])\n",
    "print(a, type(a))\n",
    "\n",
    "# orbit = 0\n",
    "# orbit = orbit + 1 +1\n",
    "# print(orbit, 2^orbit)\n",
    "\n",
    "# a = 2\n",
    "# print(a.digits(2))\n",
    "\n",
    "# def binary(n, length):\n",
    "#     return '0' * (length-n.nbits()) + n.binary()\n",
    "    \n",
    "# print(binary(2, 5))\n",
    "\n",
    "# str = binary(2, 5)\n",
    "# print(str[3])"
   ]
  },
  {
   "cell_type": "code",
   "execution_count": null,
   "metadata": {},
   "outputs": [],
   "source": []
  },
  {
   "cell_type": "code",
   "execution_count": null,
   "metadata": {},
   "outputs": [],
   "source": []
  }
 ],
 "metadata": {
  "kernelspec": {
   "display_name": "SageMath 9.0",
   "language": "sage",
   "name": "sagemath"
  },
  "language_info": {
   "codemirror_mode": {
    "name": "ipython",
    "version": 3
   },
   "file_extension": ".py",
   "mimetype": "text/x-python",
   "name": "python",
   "nbconvert_exporter": "python",
   "pygments_lexer": "ipython3",
   "version": "3.8.10"
  }
 },
 "nbformat": 4,
 "nbformat_minor": 4
}
